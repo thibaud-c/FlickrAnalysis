{
 "cells": [
  {
   "cell_type": "markdown",
   "metadata": {},
   "source": [
    "# Kuiper's test Statistique "
   ]
  },
  {
   "cell_type": "code",
   "execution_count": 3,
   "metadata": {},
   "outputs": [],
   "source": [
    "#auto reload\n",
    "%reload_ext autoreload\n",
    "%autoreload 2\n",
    "%matplotlib inline"
   ]
  },
  {
   "cell_type": "code",
   "execution_count": 4,
   "metadata": {},
   "outputs": [],
   "source": [
    "#imports\n",
    "import pandas as pd\n",
    "import numpy as np\n",
    "import matplotlib.pyplot as plt\n",
    "\n",
    "from scipy import stats"
   ]
  },
  {
   "cell_type": "markdown",
   "metadata": {},
   "source": [
    "## Parameters"
   ]
  },
  {
   "cell_type": "code",
   "execution_count": 5,
   "metadata": {},
   "outputs": [],
   "source": [
    "# File path\n",
    "poi_path = \"./Data/CSV/TripAdvisor.csv\"\n",
    "pic_path = \"./Data/CSV/flickr_outside_1903.csv\""
   ]
  },
  {
   "cell_type": "markdown",
   "metadata": {},
   "source": [
    "## Data mining"
   ]
  },
  {
   "cell_type": "markdown",
   "metadata": {},
   "source": [
    "#### Trip Advisor POIs"
   ]
  },
  {
   "cell_type": "code",
   "execution_count": 6,
   "metadata": {},
   "outputs": [
    {
     "data": {
      "text/html": [
       "<div>\n",
       "<style scoped>\n",
       "    .dataframe tbody tr th:only-of-type {\n",
       "        vertical-align: middle;\n",
       "    }\n",
       "\n",
       "    .dataframe tbody tr th {\n",
       "        vertical-align: top;\n",
       "    }\n",
       "\n",
       "    .dataframe thead th {\n",
       "        text-align: right;\n",
       "    }\n",
       "</style>\n",
       "<table border=\"1\" class=\"dataframe\">\n",
       "  <thead>\n",
       "    <tr style=\"text-align: right;\">\n",
       "      <th></th>\n",
       "      <th>name</th>\n",
       "      <th>classement</th>\n",
       "      <th>address</th>\n",
       "      <th>avis</th>\n",
       "      <th>note</th>\n",
       "      <th>lon</th>\n",
       "      <th>lat</th>\n",
       "      <th>y</th>\n",
       "      <th>x</th>\n",
       "    </tr>\n",
       "  </thead>\n",
       "  <tbody>\n",
       "    <tr>\n",
       "      <th>0</th>\n",
       "      <td>The Olympic Museum Lausanne</td>\n",
       "      <td>3</td>\n",
       "      <td>Quai d' Ouchy 1, Lausanne 1006, Suisse</td>\n",
       "      <td>2333</td>\n",
       "      <td>4.5</td>\n",
       "      <td>6.634069</td>\n",
       "      <td>46.508690</td>\n",
       "      <td>1151138</td>\n",
       "      <td>2538248</td>\n",
       "    </tr>\n",
       "    <tr>\n",
       "      <th>1</th>\n",
       "      <td>Espace des Inventions</td>\n",
       "      <td>27</td>\n",
       "      <td>Vallee de la Jeunesse, Lausanne 1007, Suisse</td>\n",
       "      <td>59</td>\n",
       "      <td>4.0</td>\n",
       "      <td>6.603746</td>\n",
       "      <td>46.519505</td>\n",
       "      <td>1152364</td>\n",
       "      <td>2535933</td>\n",
       "    </tr>\n",
       "    <tr>\n",
       "      <th>2</th>\n",
       "      <td>Esplanade de Montbenon</td>\n",
       "      <td>12</td>\n",
       "      <td>Allée Ernest Ansermet, Lausanne, Suisse</td>\n",
       "      <td>119</td>\n",
       "      <td>4.5</td>\n",
       "      <td>6.625968</td>\n",
       "      <td>46.519928</td>\n",
       "      <td>1152393</td>\n",
       "      <td>2537639</td>\n",
       "    </tr>\n",
       "    <tr>\n",
       "      <th>3</th>\n",
       "      <td>Palais Rumine</td>\n",
       "      <td>13</td>\n",
       "      <td>place de la Riponne 6, Lausanne 1005, Suisse</td>\n",
       "      <td>79</td>\n",
       "      <td>4.5</td>\n",
       "      <td>6.633965</td>\n",
       "      <td>46.523673</td>\n",
       "      <td>1152803</td>\n",
       "      <td>2538257</td>\n",
       "    </tr>\n",
       "    <tr>\n",
       "      <th>4</th>\n",
       "      <td>Thai Pavilion</td>\n",
       "      <td>19</td>\n",
       "      <td>avenue du Chablais 46, Lausanne 1007, Suisse</td>\n",
       "      <td>51</td>\n",
       "      <td>4.5</td>\n",
       "      <td>6.640913</td>\n",
       "      <td>46.506146</td>\n",
       "      <td>1150850</td>\n",
       "      <td>2538770</td>\n",
       "    </tr>\n",
       "  </tbody>\n",
       "</table>\n",
       "</div>"
      ],
      "text/plain": [
       "                          name  classement  \\\n",
       "0  The Olympic Museum Lausanne           3   \n",
       "1        Espace des Inventions          27   \n",
       "2       Esplanade de Montbenon          12   \n",
       "3                Palais Rumine          13   \n",
       "4                Thai Pavilion          19   \n",
       "\n",
       "                                        address  avis  note       lon  \\\n",
       "0        Quai d' Ouchy 1, Lausanne 1006, Suisse  2333   4.5  6.634069   \n",
       "1  Vallee de la Jeunesse, Lausanne 1007, Suisse    59   4.0  6.603746   \n",
       "2       Allée Ernest Ansermet, Lausanne, Suisse   119   4.5  6.625968   \n",
       "3  place de la Riponne 6, Lausanne 1005, Suisse    79   4.5  6.633965   \n",
       "4  avenue du Chablais 46, Lausanne 1007, Suisse    51   4.5  6.640913   \n",
       "\n",
       "         lat        y        x  \n",
       "0  46.508690  1151138  2538248  \n",
       "1  46.519505  1152364  2535933  \n",
       "2  46.519928  1152393  2537639  \n",
       "3  46.523673  1152803  2538257  \n",
       "4  46.506146  1150850  2538770  "
      ]
     },
     "execution_count": 6,
     "metadata": {},
     "output_type": "execute_result"
    }
   ],
   "source": [
    "#Load csv into pandas\n",
    "pois = pd.read_csv(poi_path, delimiter=\",\")\n",
    "pois.head()"
   ]
  },
  {
   "cell_type": "markdown",
   "metadata": {},
   "source": [
    "#### Flickr pictures"
   ]
  },
  {
   "cell_type": "code",
   "execution_count": 49,
   "metadata": {},
   "outputs": [
    {
     "data": {
      "text/html": [
       "<div>\n",
       "<style scoped>\n",
       "    .dataframe tbody tr th:only-of-type {\n",
       "        vertical-align: middle;\n",
       "    }\n",
       "\n",
       "    .dataframe tbody tr th {\n",
       "        vertical-align: top;\n",
       "    }\n",
       "\n",
       "    .dataframe thead th {\n",
       "        text-align: right;\n",
       "    }\n",
       "</style>\n",
       "<table border=\"1\" class=\"dataframe\">\n",
       "  <thead>\n",
       "    <tr style=\"text-align: right;\">\n",
       "      <th></th>\n",
       "      <th>flickrid</th>\n",
       "      <th>owner_id</th>\n",
       "      <th>title</th>\n",
       "      <th>date_downl</th>\n",
       "      <th>date_shot</th>\n",
       "      <th>gps_bool</th>\n",
       "      <th>farm</th>\n",
       "      <th>server</th>\n",
       "      <th>secret</th>\n",
       "      <th>make</th>\n",
       "      <th>model</th>\n",
       "      <th>foc_mm</th>\n",
       "      <th>azimuth_bo</th>\n",
       "      <th>azimuth</th>\n",
       "      <th>height</th>\n",
       "      <th>inside</th>\n",
       "      <th>lon</th>\n",
       "      <th>lat</th>\n",
       "      <th>x</th>\n",
       "      <th>y</th>\n",
       "    </tr>\n",
       "  </thead>\n",
       "  <tbody>\n",
       "    <tr>\n",
       "      <th>0</th>\n",
       "      <td>23923423741</td>\n",
       "      <td>23311236@N00</td>\n",
       "      <td>Dernier éclat</td>\n",
       "      <td>2016-10-06</td>\n",
       "      <td>2015-12-25</td>\n",
       "      <td>1</td>\n",
       "      <td>2</td>\n",
       "      <td>1463</td>\n",
       "      <td>NaN</td>\n",
       "      <td>Apple</td>\n",
       "      <td>iPhone 4S</td>\n",
       "      <td>4.3</td>\n",
       "      <td>0</td>\n",
       "      <td>199.270073</td>\n",
       "      <td>375.000000</td>\n",
       "      <td>0</td>\n",
       "      <td>6.589856</td>\n",
       "      <td>46.518497</td>\n",
       "      <td>2534866</td>\n",
       "      <td>1152264</td>\n",
       "    </tr>\n",
       "    <tr>\n",
       "      <th>1</th>\n",
       "      <td>23417919426</td>\n",
       "      <td>7209452@N02</td>\n",
       "      <td>pardonnez l essai de retouches :-)</td>\n",
       "      <td>2016-10-06</td>\n",
       "      <td>2015-11-30</td>\n",
       "      <td>1</td>\n",
       "      <td>6</td>\n",
       "      <td>5675</td>\n",
       "      <td>NaN</td>\n",
       "      <td>Apple</td>\n",
       "      <td>iPhone 6</td>\n",
       "      <td>4.2</td>\n",
       "      <td>0</td>\n",
       "      <td>195.234694</td>\n",
       "      <td>358.639485</td>\n",
       "      <td>0</td>\n",
       "      <td>6.586825</td>\n",
       "      <td>46.517528</td>\n",
       "      <td>2534632</td>\n",
       "      <td>1152159</td>\n",
       "    </tr>\n",
       "    <tr>\n",
       "      <th>2</th>\n",
       "      <td>22812410635</td>\n",
       "      <td>18602508@N00</td>\n",
       "      <td>Autumn</td>\n",
       "      <td>2016-10-06</td>\n",
       "      <td>2015-11-01</td>\n",
       "      <td>1</td>\n",
       "      <td>1</td>\n",
       "      <td>614</td>\n",
       "      <td>NaN</td>\n",
       "      <td>Apple</td>\n",
       "      <td>iPhone 6</td>\n",
       "      <td>4.2</td>\n",
       "      <td>0</td>\n",
       "      <td>126.482609</td>\n",
       "      <td>375.842975</td>\n",
       "      <td>0</td>\n",
       "      <td>6.590994</td>\n",
       "      <td>46.518581</td>\n",
       "      <td>2534954</td>\n",
       "      <td>1152272</td>\n",
       "    </tr>\n",
       "    <tr>\n",
       "      <th>3</th>\n",
       "      <td>21745840440</td>\n",
       "      <td>30320580@N03</td>\n",
       "      <td>Lousanne</td>\n",
       "      <td>2016-10-06</td>\n",
       "      <td>2015-09-25</td>\n",
       "      <td>1</td>\n",
       "      <td>1</td>\n",
       "      <td>748</td>\n",
       "      <td>NaN</td>\n",
       "      <td>Apple</td>\n",
       "      <td>iPhone 6</td>\n",
       "      <td>4.2</td>\n",
       "      <td>0</td>\n",
       "      <td>165.107720</td>\n",
       "      <td>375.489848</td>\n",
       "      <td>0</td>\n",
       "      <td>6.606053</td>\n",
       "      <td>46.512517</td>\n",
       "      <td>2536102</td>\n",
       "      <td>1151586</td>\n",
       "    </tr>\n",
       "    <tr>\n",
       "      <th>4</th>\n",
       "      <td>21188328269</td>\n",
       "      <td>61152197@N00</td>\n",
       "      <td>The Color Run Lausanne 2015</td>\n",
       "      <td>2016-10-06</td>\n",
       "      <td>2015-09-12</td>\n",
       "      <td>1</td>\n",
       "      <td>1</td>\n",
       "      <td>647</td>\n",
       "      <td>NaN</td>\n",
       "      <td>Apple</td>\n",
       "      <td>iPhone 5s</td>\n",
       "      <td>4.2</td>\n",
       "      <td>0</td>\n",
       "      <td>55.695114</td>\n",
       "      <td>374.000000</td>\n",
       "      <td>0</td>\n",
       "      <td>6.603208</td>\n",
       "      <td>46.511539</td>\n",
       "      <td>2535882</td>\n",
       "      <td>1151479</td>\n",
       "    </tr>\n",
       "  </tbody>\n",
       "</table>\n",
       "</div>"
      ],
      "text/plain": [
       "      flickrid      owner_id                               title  date_downl  \\\n",
       "0  23923423741  23311236@N00                       Dernier éclat  2016-10-06   \n",
       "1  23417919426   7209452@N02  pardonnez l essai de retouches :-)  2016-10-06   \n",
       "2  22812410635  18602508@N00                              Autumn  2016-10-06   \n",
       "3  21745840440  30320580@N03                            Lousanne  2016-10-06   \n",
       "4  21188328269  61152197@N00         The Color Run Lausanne 2015  2016-10-06   \n",
       "\n",
       "    date_shot  gps_bool  farm  server  secret   make      model  foc_mm  \\\n",
       "0  2015-12-25         1     2    1463     NaN  Apple  iPhone 4S     4.3   \n",
       "1  2015-11-30         1     6    5675     NaN  Apple   iPhone 6     4.2   \n",
       "2  2015-11-01         1     1     614     NaN  Apple   iPhone 6     4.2   \n",
       "3  2015-09-25         1     1     748     NaN  Apple   iPhone 6     4.2   \n",
       "4  2015-09-12         1     1     647     NaN  Apple  iPhone 5s     4.2   \n",
       "\n",
       "   azimuth_bo     azimuth      height  inside       lon        lat        x  \\\n",
       "0           0  199.270073  375.000000       0  6.589856  46.518497  2534866   \n",
       "1           0  195.234694  358.639485       0  6.586825  46.517528  2534632   \n",
       "2           0  126.482609  375.842975       0  6.590994  46.518581  2534954   \n",
       "3           0  165.107720  375.489848       0  6.606053  46.512517  2536102   \n",
       "4           0   55.695114  374.000000       0  6.603208  46.511539  2535882   \n",
       "\n",
       "         y  \n",
       "0  1152264  \n",
       "1  1152159  \n",
       "2  1152272  \n",
       "3  1151586  \n",
       "4  1151479  "
      ]
     },
     "execution_count": 49,
     "metadata": {},
     "output_type": "execute_result"
    }
   ],
   "source": [
    "#Load csv into pandas\n",
    "pics = pd.read_csv(pic_path, delimiter=\",\")\n",
    "pics.head()"
   ]
  },
  {
   "cell_type": "markdown",
   "metadata": {},
   "source": [
    "#### Scatter plot of POIs, pictures according to location"
   ]
  },
  {
   "cell_type": "code",
   "execution_count": 104,
   "metadata": {},
   "outputs": [
    {
     "data": {
      "image/png": "[encoded data removed]",
      "text/plain": [
       "<Figure size 1440x864 with 1 Axes>"
      ]
     },
     "metadata": {
      "needs_background": "light"
     },
     "output_type": "display_data"
    }
   ],
   "source": [
    "# Plot points from Flickr and Tripadvisor distribution\n",
    "\n",
    "# Flickr scatter\n",
    "plt.scatter(pics.x, pics.y, s=20, c=\"orange\", marker=\"o\", label='Flickr')\n",
    "# TripAdvisor scatter\n",
    "plt.scatter(pois.x, pois.y, s=200, c=\"b\", marker=\"*\", label='TripAdvisor')\n",
    "\n",
    "fig = plt.gcf()\n",
    "fig.set_size_inches(20, 12)\n",
    "\n",
    "plt.legend()\n",
    "plt.show()"
   ]
  },
  {
   "cell_type": "markdown",
   "metadata": {},
   "source": [
    "## Kuiper's Test"
   ]
  },
  {
   "cell_type": "code",
   "execution_count": 51,
   "metadata": {},
   "outputs": [],
   "source": [
    "# Get area\n",
    "MaxX = pics.x.max()+1\n",
    "MinX = pics.x.min()-1\n",
    "\n",
    "MaxY = pics.y.max()+1\n",
    "MinY = pics.y.min()-1\n",
    "\n",
    "# step number 8 (defined the nomber of histograms)\n",
    "step = 100"
   ]
  },
  {
   "cell_type": "code",
   "execution_count": 89,
   "metadata": {},
   "outputs": [],
   "source": [
    "# Create a dataframe usable for a Kuiper's test : orientation = \"lat\" or \"lon\" \n",
    "def createKuiper_df(df,step,extmin,extmax,orientation):\n",
    "    \n",
    "    pics_x = []\n",
    "    pics_y = []\n",
    "    pics_indices = []\n",
    " \n",
    "    # get starting point - with step size\n",
    "    maxY = df.count()[0]\n",
    "    step_size = (extmax - extmin) / step\n",
    "    \n",
    "    coordcurrent = extmin\n",
    "    \n",
    "    # Loop on each coordinate according to the step\n",
    "    while (coordcurrent<= extmax):\n",
    "        y = 0\n",
    "        indices = []\n",
    "        \n",
    "        coordnext = coordcurrent + step_size\n",
    "        \n",
    "        # Loop on each elements of the dataframe\n",
    "        for row in df.iterrows():\n",
    "            # if picture get it's location into the step, save it\n",
    "            # lon\n",
    "            if (coordcurrent<row[1].x<coordnext and orientation==\"lon\"):\n",
    "                y += 1\n",
    "                indices.append(row[0])\n",
    "            # lat\n",
    "            if (coordcurrent<row[1].y<coordnext and orientation==\"lat\"):\n",
    "                y += 1\n",
    "                indices.append(row[0])\n",
    "            \n",
    "        pics_x.append(coordcurrent)\n",
    "        \n",
    "        addYvalue = 0\n",
    "        if (len(pics_y)!=0):\n",
    "            # if pics into the step and add them up\n",
    "            addYvalue = pics_y[len(pics_y)-1]\n",
    "    \n",
    "        # calculate the density of pics into this step\n",
    "        pics_y.append(y/maxY+addYvalue)\n",
    "         \n",
    "        pics_indices.append(indices)\n",
    "        # next step\n",
    "        coordcurrent = coordnext\n",
    "        \n",
    "    # return lat, long coordinate and the pictures into that step \n",
    "    return pd.DataFrame(list(zip(pics_x,pics_y,pics_indices)), columns=['x', 'y', 'i'])"
   ]
  },
  {
   "cell_type": "code",
   "execution_count": 98,
   "metadata": {},
   "outputs": [],
   "source": [
    "# create array with the densities\n",
    "def create_desity_arr(df,size):\n",
    "    arr = []\n",
    "    for row in df.iterrows():\n",
    "        val = 0\n",
    "        if len(row[1][2])>0:\n",
    "            val = len(row[1][2])/size\n",
    "        arr.append(val)\n",
    "    return arr"
   ]
  },
  {
   "cell_type": "markdown",
   "metadata": {},
   "source": [
    "### Calculation based on longitude"
   ]
  },
  {
   "cell_type": "markdown",
   "metadata": {},
   "source": [
    "##### Visualization of the distributions"
   ]
  },
  {
   "cell_type": "code",
   "execution_count": 96,
   "metadata": {},
   "outputs": [
    {
     "data": {
      "image/png": "[encoded data removed]",
      "text/plain": [
       "<Figure size 1440x864 with 1 Axes>"
      ]
     },
     "metadata": {
      "needs_background": "light"
     },
     "output_type": "display_data"
    }
   ],
   "source": [
    "# Plot kuiper's test curve \n",
    "\n",
    "# Flickr pics\n",
    "pics_kuiperarray_lon = createKuiper_df(pics,step,MinX,MaxX,\"lon\")\n",
    "plt.step(pics_kuiperarray_lon.x, pics_kuiperarray_lon.y, c=\"orange\", label='Flickr')\n",
    "\n",
    "# TripAdvisor POIs\n",
    "pois_kuiperarray_lon = createKuiper_df(pois,step,MinX,MaxX,\"lon\")\n",
    "plt.step(pois_kuiperarray_lon.x, pois_kuiperarray_lon.y, c=\"b\", label='TripAdvisor')\n",
    "\n",
    "fig = plt.gcf()\n",
    "fig.set_size_inches(20, 12)\n",
    "\n",
    "plt.legend()\n",
    "plt.show()"
   ]
  },
  {
   "cell_type": "markdown",
   "metadata": {},
   "source": [
    "##### Kuiper's Test calculation"
   ]
  },
  {
   "cell_type": "code",
   "execution_count": 99,
   "metadata": {},
   "outputs": [
    {
     "data": {
      "text/html": [
       "<div>\n",
       "<style scoped>\n",
       "    .dataframe tbody tr th:only-of-type {\n",
       "        vertical-align: middle;\n",
       "    }\n",
       "\n",
       "    .dataframe tbody tr th {\n",
       "        vertical-align: top;\n",
       "    }\n",
       "\n",
       "    .dataframe thead th {\n",
       "        text-align: right;\n",
       "    }\n",
       "</style>\n",
       "<table border=\"1\" class=\"dataframe\">\n",
       "  <thead>\n",
       "    <tr style=\"text-align: right;\">\n",
       "      <th></th>\n",
       "      <th>Kuiper's Test Results</th>\n",
       "    </tr>\n",
       "  </thead>\n",
       "  <tbody>\n",
       "    <tr>\n",
       "      <th>Kuiper statistique</th>\n",
       "      <td>0.260000</td>\n",
       "    </tr>\n",
       "    <tr>\n",
       "      <th>p-value</th>\n",
       "      <td>0.001785</td>\n",
       "    </tr>\n",
       "  </tbody>\n",
       "</table>\n",
       "</div>"
      ],
      "text/plain": [
       "                    Kuiper's Test Results\n",
       "Kuiper statistique               0.260000\n",
       "p-value                          0.001785"
      ]
     },
     "execution_count": 99,
     "metadata": {},
     "output_type": "execute_result"
    }
   ],
   "source": [
    "# TripAdvisor density distribution\n",
    "kuiper_pois_lon = create_desity_arr(pois_kuiperarray,len(pois))\n",
    "\n",
    "# Flikr density distribution\n",
    "kuiper_pics_lon = create_desity_arr(pics_kuiperarray,len(pics))\n",
    "\n",
    "# Kuiper's Test\n",
    "kuiper = stats.ks_2samp(kuiper_pois_lon, kuiper_pics_lon)\n",
    "\n",
    "# Create table\n",
    "kuiper_df = pd.DataFrame({\"Kuiper's Test Results\":[kuiper[0], kuiper[1]]},\n",
    "                       index = ['Kuiper statistique', 'p-value'])\n",
    "kuiper_df"
   ]
  },
  {
   "cell_type": "markdown",
   "metadata": {},
   "source": [
    "###  Calculation based on latitude"
   ]
  },
  {
   "cell_type": "code",
   "execution_count": 100,
   "metadata": {},
   "outputs": [
    {
     "data": {
      "image/png": "[encoded data removed]",
      "text/plain": [
       "<Figure size 1440x864 with 1 Axes>"
      ]
     },
     "metadata": {
      "needs_background": "light"
     },
     "output_type": "display_data"
    }
   ],
   "source": [
    "# Plot kuiper's test curve\n",
    "\n",
    "# Flickr POIs\n",
    "pics_kuiperarray_lat = createKuiper_df(pics,step,MinY,MaxY,\"lat\")\n",
    "plt.step(pics_kuiperarray_lat.x, pics_kuiperarray_lat.y, c=\"orange\", label='Flickr')\n",
    "\n",
    "# TripAdvisor POIs\n",
    "pois_kuiperarray_lat = createKuiper_df(pois,step,MinY,MaxY,\"lat\")\n",
    "plt.step(pois_kuiperarray_lat.x, pois_kuiperarray_lat.y, c=\"b\", label='TripAdvisor')\n",
    "\n",
    "fig = plt.gcf()\n",
    "fig.set_size_inches(20, 12)\n",
    "\n",
    "plt.legend()\n",
    "plt.show()"
   ]
  },
  {
   "cell_type": "markdown",
   "metadata": {},
   "source": [
    "##### Kuiper's Test calculation"
   ]
  },
  {
   "cell_type": "code",
   "execution_count": 102,
   "metadata": {},
   "outputs": [
    {
     "data": {
      "text/html": [
       "<div>\n",
       "<style scoped>\n",
       "    .dataframe tbody tr th:only-of-type {\n",
       "        vertical-align: middle;\n",
       "    }\n",
       "\n",
       "    .dataframe tbody tr th {\n",
       "        vertical-align: top;\n",
       "    }\n",
       "\n",
       "    .dataframe thead th {\n",
       "        text-align: right;\n",
       "    }\n",
       "</style>\n",
       "<table border=\"1\" class=\"dataframe\">\n",
       "  <thead>\n",
       "    <tr style=\"text-align: right;\">\n",
       "      <th></th>\n",
       "      <th>Kuipers Test Results</th>\n",
       "    </tr>\n",
       "  </thead>\n",
       "  <tbody>\n",
       "    <tr>\n",
       "      <th>Kuiper statistique</th>\n",
       "      <td>0.306931</td>\n",
       "    </tr>\n",
       "    <tr>\n",
       "      <th>p-value</th>\n",
       "      <td>0.000102</td>\n",
       "    </tr>\n",
       "  </tbody>\n",
       "</table>\n",
       "</div>"
      ],
      "text/plain": [
       "                    Kuipers Test Results\n",
       "Kuiper statistique              0.306931\n",
       "p-value                         0.000102"
      ]
     },
     "execution_count": 102,
     "metadata": {},
     "output_type": "execute_result"
    }
   ],
   "source": [
    "# TripAdvisor density distribution\n",
    "kuiper_pois_lat = create_desity_arr(pois_kuiperarray_lat,len(pois))\n",
    "\n",
    "# Flickr density distribution\n",
    "kuiper_pics_lat = create_desity_arr(pics_kuiperarray_lat,len(pics))\n",
    "\n",
    "# Kuiper's Test\n",
    "kuiper = stats.ks_2samp(kuiper_pois_lat, kuiper_pics_lat)\n",
    "\n",
    "# Create Table\n",
    "kuiper_df = pd.DataFrame({'Kuiper''s Test Results':[kuiper[0], kuiper[1]]},\n",
    "                       index = ['Kuiper statistique', 'p-value'])\n",
    "kuiper_df"
   ]
  }
 ],
 "metadata": {
  "kernelspec": {
   "display_name": "Python 3",
   "language": "python",
   "name": "python3"
  },
  "language_info": {
   "codemirror_mode": {
    "name": "ipython",
    "version": 3
   },
   "file_extension": ".py",
   "mimetype": "text/x-python",
   "name": "python",
   "nbconvert_exporter": "python",
   "pygments_lexer": "ipython3",
   "version": "3.7.1"
  }
 },
 "nbformat": 4,
 "nbformat_minor": 2
}
